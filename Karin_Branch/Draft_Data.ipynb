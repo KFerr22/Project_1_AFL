{
 "cells": [
  {
   "cell_type": "code",
   "execution_count": 1,
   "metadata": {},
   "outputs": [],
   "source": [
    "import pandas as pd  \n",
    "import numpy as np\n",
    "import matplotlib.pyplot as plt\n",
    "import scipy.stats as st\n",
    "from scipy.stats import linregress\n",
    "\n"
   ]
  },
  {
   "cell_type": "code",
   "execution_count": 2,
   "metadata": {},
   "outputs": [
    {
     "data": {
      "text/html": [
       "<div>\n",
       "<style scoped>\n",
       "    .dataframe tbody tr th:only-of-type {\n",
       "        vertical-align: middle;\n",
       "    }\n",
       "\n",
       "    .dataframe tbody tr th {\n",
       "        vertical-align: top;\n",
       "    }\n",
       "\n",
       "    .dataframe thead th {\n",
       "        text-align: right;\n",
       "    }\n",
       "</style>\n",
       "<table border=\"1\" class=\"dataframe\">\n",
       "  <thead>\n",
       "    <tr style=\"text-align: right;\">\n",
       "      <th></th>\n",
       "      <th>Draft Year</th>\n",
       "      <th>Draft #</th>\n",
       "      <th>Club</th>\n",
       "      <th>Player</th>\n",
       "      <th>Age</th>\n",
       "      <th>Height</th>\n",
       "      <th>Weight</th>\n",
       "      <th>Original Club</th>\n",
       "      <th>Games</th>\n",
       "      <th>Goals</th>\n",
       "      <th>Votes</th>\n",
       "      <th>Premiership Years</th>\n",
       "      <th>Brownlow Years</th>\n",
       "      <th>Best &amp; Fairest Years</th>\n",
       "      <th>Rising Star Year</th>\n",
       "      <th>Premiership Count</th>\n",
       "      <th>Brownlow Count</th>\n",
       "      <th>Best &amp; Fairest Count</th>\n",
       "      <th>Rising Star Count</th>\n",
       "    </tr>\n",
       "  </thead>\n",
       "  <tbody>\n",
       "    <tr>\n",
       "      <th>0</th>\n",
       "      <td>1990</td>\n",
       "      <td>1</td>\n",
       "      <td>Geelong</td>\n",
       "      <td>Stephen Hooper</td>\n",
       "      <td>21.0</td>\n",
       "      <td>198.0</td>\n",
       "      <td>98.0</td>\n",
       "      <td>East Perth</td>\n",
       "      <td>21</td>\n",
       "      <td>0</td>\n",
       "      <td>0</td>\n",
       "      <td>NaN</td>\n",
       "      <td>NaN</td>\n",
       "      <td>NaN</td>\n",
       "      <td>NaN</td>\n",
       "      <td>NaN</td>\n",
       "      <td>NaN</td>\n",
       "      <td>NaN</td>\n",
       "      <td>NaN</td>\n",
       "    </tr>\n",
       "    <tr>\n",
       "      <th>1</th>\n",
       "      <td>1990</td>\n",
       "      <td>2</td>\n",
       "      <td>Carlton</td>\n",
       "      <td>James Cook</td>\n",
       "      <td>16.0</td>\n",
       "      <td>190.0</td>\n",
       "      <td>95.0</td>\n",
       "      <td>North Hobart</td>\n",
       "      <td>77</td>\n",
       "      <td>139</td>\n",
       "      <td>2</td>\n",
       "      <td>NaN</td>\n",
       "      <td>NaN</td>\n",
       "      <td>NaN</td>\n",
       "      <td>NaN</td>\n",
       "      <td>NaN</td>\n",
       "      <td>NaN</td>\n",
       "      <td>NaN</td>\n",
       "      <td>NaN</td>\n",
       "    </tr>\n",
       "    <tr>\n",
       "      <th>2</th>\n",
       "      <td>1990</td>\n",
       "      <td>3</td>\n",
       "      <td>Fitzroy</td>\n",
       "      <td>David Donato</td>\n",
       "      <td>20.0</td>\n",
       "      <td>178.0</td>\n",
       "      <td>75.0</td>\n",
       "      <td>Clarence</td>\n",
       "      <td>12</td>\n",
       "      <td>2</td>\n",
       "      <td>0</td>\n",
       "      <td>NaN</td>\n",
       "      <td>NaN</td>\n",
       "      <td>NaN</td>\n",
       "      <td>NaN</td>\n",
       "      <td>NaN</td>\n",
       "      <td>NaN</td>\n",
       "      <td>NaN</td>\n",
       "      <td>NaN</td>\n",
       "    </tr>\n",
       "    <tr>\n",
       "      <th>3</th>\n",
       "      <td>1990</td>\n",
       "      <td>4</td>\n",
       "      <td>Collingwood</td>\n",
       "      <td>Jason McCartney</td>\n",
       "      <td>16.0</td>\n",
       "      <td>191.0</td>\n",
       "      <td>95.0</td>\n",
       "      <td>Nhill</td>\n",
       "      <td>182</td>\n",
       "      <td>63</td>\n",
       "      <td>6</td>\n",
       "      <td>NaN</td>\n",
       "      <td>NaN</td>\n",
       "      <td>NaN</td>\n",
       "      <td>NaN</td>\n",
       "      <td>NaN</td>\n",
       "      <td>NaN</td>\n",
       "      <td>NaN</td>\n",
       "      <td>NaN</td>\n",
       "    </tr>\n",
       "    <tr>\n",
       "      <th>4</th>\n",
       "      <td>1990</td>\n",
       "      <td>5</td>\n",
       "      <td>Geelong</td>\n",
       "      <td>Stewart Devlin</td>\n",
       "      <td>18.0</td>\n",
       "      <td>NaN</td>\n",
       "      <td>NaN</td>\n",
       "      <td>Horsham FC</td>\n",
       "      <td>0</td>\n",
       "      <td>0</td>\n",
       "      <td>0</td>\n",
       "      <td>NaN</td>\n",
       "      <td>NaN</td>\n",
       "      <td>NaN</td>\n",
       "      <td>NaN</td>\n",
       "      <td>NaN</td>\n",
       "      <td>NaN</td>\n",
       "      <td>NaN</td>\n",
       "      <td>NaN</td>\n",
       "    </tr>\n",
       "  </tbody>\n",
       "</table>\n",
       "</div>"
      ],
      "text/plain": [
       "   Draft Year  Draft #         Club           Player   Age  Height  Weight  \\\n",
       "0        1990        1      Geelong   Stephen Hooper  21.0   198.0    98.0   \n",
       "1        1990        2      Carlton       James Cook  16.0   190.0    95.0   \n",
       "2        1990        3      Fitzroy     David Donato  20.0   178.0    75.0   \n",
       "3        1990        4  Collingwood  Jason McCartney  16.0   191.0    95.0   \n",
       "4        1990        5      Geelong   Stewart Devlin  18.0     NaN     NaN   \n",
       "\n",
       "  Original Club  Games  Goals  Votes Premiership Years Brownlow Years  \\\n",
       "0    East Perth     21      0      0               NaN            NaN   \n",
       "1  North Hobart     77    139      2               NaN            NaN   \n",
       "2      Clarence     12      2      0               NaN            NaN   \n",
       "3         Nhill    182     63      6               NaN            NaN   \n",
       "4    Horsham FC      0      0      0               NaN            NaN   \n",
       "\n",
       "  Best & Fairest Years Rising Star Year  Premiership Count  Brownlow Count  \\\n",
       "0                  NaN              NaN                NaN             NaN   \n",
       "1                  NaN              NaN                NaN             NaN   \n",
       "2                  NaN              NaN                NaN             NaN   \n",
       "3                  NaN              NaN                NaN             NaN   \n",
       "4                  NaN              NaN                NaN             NaN   \n",
       "\n",
       "   Best & Fairest Count  Rising Star Count  \n",
       "0                   NaN                NaN  \n",
       "1                   NaN                NaN  \n",
       "2                   NaN                NaN  \n",
       "3                   NaN                NaN  \n",
       "4                   NaN                NaN  "
      ]
     },
     "execution_count": 2,
     "metadata": {},
     "output_type": "execute_result"
    }
   ],
   "source": [
    " # Load draft data set into pandas\n",
    "draft_data = pd.read_excel(\"Resources/Draft Data 1995-2018.xlsx\")\n",
    "draft_data.head()"
   ]
  },
  {
   "cell_type": "code",
   "execution_count": 3,
   "metadata": {},
   "outputs": [
    {
     "data": {
      "image/png": "[encoded data removed]",
      "text/plain": [
       "<Figure size 576x360 with 1 Axes>"
      ]
     },
     "metadata": {
      "needs_background": "light"
     },
     "output_type": "display_data"
    }
   ],
   "source": [
    "#Obtain Premiership success for draft picks\n",
    "plot_prem_sum = draft_data.groupby([\"Draft #\"])[\"Premiership Count\"].sum()\n",
    "\n",
    "x_axis = np.arange(0,len(plot_prem_sum))\n",
    "\n",
    "tick_locations = []\n",
    "for x in x_axis:\n",
    "    tick_locations.append(x)\n",
    "\n",
    "#Correlation Coefficient\n",
    "correlation = st.pearsonr(x_axis,plot_prem_sum)\n",
    "corr_note =(f'''The correlation coefficient between values is {round(correlation[0],2)}''')\n",
    "\n",
    "(slope, intercept, rvalue, pvalue, stderr) = linregress(x_axis, plot_prem_sum)\n",
    "regress_values = x_axis * slope + intercept\n",
    "line_eq = \"y = \" + str(round(slope,2)) + \"x + \" + str(round(intercept,2))\n",
    "\n",
    "#Plot Scatter\n",
    "plt.figure(figsize =(8,5))\n",
    "plt.scatter(x_axis, plot_prem_sum,\n",
    "            marker=\"o\", \n",
    "            facecolors=\"blue\",  \n",
    "            alpha=0.75)\n",
    "plt.plot(x_axis,regress_values,\"r-\")\n",
    "plt.annotate(corr_note,(35,18.5),fontsize=12,color=\"red\")\n",
    "\n",
    "plt.ylim(-0.5,20)\n",
    "plt.xlim(-2,121)\n",
    "\n",
    "plt.title(\"Premierships won vs Draft pick number\")\n",
    "plt.ylabel(\"Premierships Won\")\n",
    "plt.xlabel(\"Draft pick Number\")\n",
    "\n",
    "plt.show()"
   ]
  },
  {
   "cell_type": "code",
   "execution_count": 4,
   "metadata": {},
   "outputs": [
    {
     "data": {
      "text/plain": [
       "Draft #\n",
       "1       8.0\n",
       "2      17.0\n",
       "3      11.0\n",
       "4       7.0\n",
       "5       9.0\n",
       "       ... \n",
       "118     0.0\n",
       "120     0.0\n",
       "121     0.0\n",
       "122     0.0\n",
       "124     0.0\n",
       "Name: Premiership Count, Length: 120, dtype: float64"
      ]
     },
     "execution_count": 4,
     "metadata": {},
     "output_type": "execute_result"
    }
   ],
   "source": [
    "#validate data entries\n",
    "plot_prem_sum"
   ]
  },
  {
   "cell_type": "code",
   "execution_count": 5,
   "metadata": {},
   "outputs": [
    {
     "data": {
      "image/png": "[encoded data removed]",
      "text/plain": [
       "<Figure size 576x360 with 1 Axes>"
      ]
     },
     "metadata": {
      "needs_background": "light"
     },
     "output_type": "display_data"
    }
   ],
   "source": [
    "#Obtain Average games played for draft picks\n",
    "scatter_games = draft_data.groupby([\"Draft #\"])[\"Games\"].mean()\n",
    "\n",
    "x_axis_games = np.arange(0,len(scatter_games))\n",
    "\n",
    "tick_locations = []\n",
    "for x in x_axis_games:\n",
    "    tick_locations.append(x)\n",
    "\n",
    "#Correlation Coefficient\n",
    "correlation = st.pearsonr(x_axis_games,scatter_games)\n",
    "corr_note2 = (f'''The correlation coefficient between values is {round(correlation[0],2)}''')\n",
    "\n",
    "(slope, intercept, rvalue, pvalue, stderr) = linregress(x_axis_games, scatter_games)\n",
    "regress_values = x_axis_games * slope + intercept\n",
    "line_eq = \"y = \" + str(round(slope,2)) + \"x + \" + str(round(intercept,2))\n",
    "\n",
    "#Plot scatter\n",
    "plt.figure(figsize =(8,5))\n",
    "plt.scatter(x_axis_games, scatter_games,\n",
    "            marker=\"o\", \n",
    "            facecolors=\"blue\",  \n",
    "            alpha=0.75)\n",
    "plt.plot(x_axis_games,regress_values,\"r-\")\n",
    "plt.annotate(corr_note2,(36,158),fontsize=12,color=\"red\")\n",
    "\n",
    "plt.ylim(-2,170)\n",
    "plt.xlim(-2,125)\n",
    "\n",
    "plt.title(\"Average games played vs Draft pick number\")\n",
    "plt.ylabel(\"Average games played\")\n",
    "plt.xlabel(\"Draft pick number\")\n",
    "\n",
    "plt.show()"
   ]
  },
  {
   "cell_type": "code",
   "execution_count": 6,
   "metadata": {},
   "outputs": [
    {
     "data": {
      "text/plain": [
       "Draft #\n",
       "1      181.241379\n",
       "2      159.931034\n",
       "3      152.068966\n",
       "4      119.413793\n",
       "5      144.172414\n",
       "          ...    \n",
       "118      1.000000\n",
       "120      0.000000\n",
       "121      0.000000\n",
       "122      0.000000\n",
       "124    116.000000\n",
       "Name: Games, Length: 120, dtype: float64"
      ]
     },
     "execution_count": 6,
     "metadata": {},
     "output_type": "execute_result"
    }
   ],
   "source": [
    "#validate data entries\n",
    "scatter_games"
   ]
  },
  {
   "cell_type": "code",
   "execution_count": 7,
   "metadata": {},
   "outputs": [],
   "source": [
    "#Create Bins in groups of 20\n",
    "#Did not include draft picks 100+ as no individual awards won\n",
    "bins_20 = [0, 19.9, 39.9, 59.9, 79.9, 99.9]\n",
    "\n",
    "group_names_20 = [\"1-20\",\"21-40\",\"41-60\",\"61-80\",\"81-100\"]\n",
    "\n",
    "draft_data[\"Draft Interval\"] = pd.cut(draft_data[\"Draft #\"], bins_20, labels=group_names_20,include_lowest=True)\n"
   ]
  },
  {
   "cell_type": "code",
   "execution_count": 8,
   "metadata": {},
   "outputs": [
    {
     "data": {
      "image/png": "[encoded data removed]",
      "text/plain": [
       "<Figure size 576x360 with 1 Axes>"
      ]
     },
     "metadata": {
      "needs_background": "light"
     },
     "output_type": "display_data"
    }
   ],
   "source": [
    "#Obtain Rising Star awwards won by draft picks in Bins\n",
    "draft_interval_20 = draft_data.groupby([\"Draft Interval\"])['Rising Star Count'].sum()\n",
    "\n",
    "x_axis = np.arange(0,len(draft_interval_20))\n",
    "\n",
    "tick_locations = []\n",
    "for x in x_axis:\n",
    "    tick_locations.append(x)\n",
    "\n",
    "#Plot Bar Graph\n",
    "plt.figure(figsize =(8,5))\n",
    "plt.title(\"Number of Rising Star Awards per draft pick group\")\n",
    "plt.xlabel(\"Draft pick group\")\n",
    "plt.ylabel(\"Number of Rising Star wins\")\n",
    "\n",
    "plt.bar(draft_interval_20.index,draft_interval_20, \n",
    "        color='blue', \n",
    "        align=\"center\")\n",
    "plt.xticks(tick_locations,draft_interval_20.index,rotation =\"horizontal\");"
   ]
  },
  {
   "cell_type": "code",
   "execution_count": 9,
   "metadata": {},
   "outputs": [
    {
     "data": {
      "text/plain": [
       "Draft Interval\n",
       "1-20      15.0\n",
       "21-40      4.0\n",
       "41-60      1.0\n",
       "61-80      1.0\n",
       "81-100     0.0\n",
       "Name: Rising Star Count, dtype: float64"
      ]
     },
     "execution_count": 9,
     "metadata": {},
     "output_type": "execute_result"
    }
   ],
   "source": [
    "#validate data entries\n",
    "draft_interval_20"
   ]
  },
  {
   "cell_type": "code",
   "execution_count": 10,
   "metadata": {},
   "outputs": [
    {
     "data": {
      "image/png": "[encoded data removed]",
      "text/plain": [
       "<Figure size 576x360 with 1 Axes>"
      ]
     },
     "metadata": {
      "needs_background": "light"
     },
     "output_type": "display_data"
    }
   ],
   "source": [
    "#Obtain B&F awwards won by draft picks in Bins\n",
    "draft_interval_BF20 = draft_data.groupby([\"Draft Interval\"])['Best & Fairest Count'].sum()\n",
    "\n",
    "x_axis = np.arange(0,len(draft_interval_BF20))\n",
    "\n",
    "tick_locations = []\n",
    "for x in x_axis:\n",
    "    tick_locations.append(x)\n",
    "\n",
    "#Plot Bar Graph\n",
    "plt.figure(figsize =(8,5))\n",
    "plt.title(\"Number of Best & Fairest Awards per draft pick group\")\n",
    "plt.xlabel(\"Draft pick group\")\n",
    "plt.ylabel(\"Number of Best & Fairest wins\")\n",
    "\n",
    "plt.bar(draft_interval_BF20.index,draft_interval_BF20, \n",
    "        color='blue', \n",
    "        align=\"center\")\n",
    "plt.xticks(tick_locations,draft_interval_BF20.index,rotation =\"horizontal\");"
   ]
  },
  {
   "cell_type": "code",
   "execution_count": 11,
   "metadata": {},
   "outputs": [
    {
     "data": {
      "text/plain": [
       "Draft Interval\n",
       "1-20      154.0\n",
       "21-40      66.0\n",
       "41-60      72.0\n",
       "61-80      15.0\n",
       "81-100      1.0\n",
       "Name: Best & Fairest Count, dtype: float64"
      ]
     },
     "execution_count": 11,
     "metadata": {},
     "output_type": "execute_result"
    }
   ],
   "source": [
    "#validate data entries\n",
    "draft_interval_BF20"
   ]
  }
 ],
 "metadata": {
  "interpreter": {
   "hash": "5f5b4eacd33b247cead3be2c2dec86fdbc4f1d00fa25e3e547e648f85c13e2b2"
  },
  "kernelspec": {
   "display_name": "Python 3.9.7 ('base')",
   "language": "python",
   "name": "python3"
  },
  "language_info": {
   "codemirror_mode": {
    "name": "ipython",
    "version": 3
   },
   "file_extension": ".py",
   "mimetype": "text/x-python",
   "name": "python",
   "nbconvert_exporter": "python",
   "pygments_lexer": "ipython3",
   "version": "3.9.7"
  },
  "orig_nbformat": 4
 },
 "nbformat": 4,
 "nbformat_minor": 2
}
