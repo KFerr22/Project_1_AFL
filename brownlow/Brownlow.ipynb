{
 "cells": [
  {
   "cell_type": "markdown",
   "metadata": {},
   "source": [
    "# Brownlow Medal Analysis\n",
    "----\n",
    "\n",
    "What is the breakdown of umpires' votes for home and away team players?"
   ]
  },
  {
   "cell_type": "code",
   "execution_count": 2,
   "metadata": {},
   "outputs": [],
   "source": [
    "# Dependencies and Setup\n",
    "import matplotlib.pyplot as plt\n",
    "import pandas as pd\n",
    "import numpy as np\n",
    "import requests\n",
    "import os\n"
   ]
  },
  {
   "cell_type": "markdown",
   "metadata": {},
   "source": [
    "Load the csv created from data obtained from https://afltables.com/afl/afl_index.html"
   ]
  },
  {
   "cell_type": "code",
   "execution_count": 3,
   "metadata": {},
   "outputs": [
    {
     "data": {
      "text/html": [
       "<div>\n",
       "<style scoped>\n",
       "    .dataframe tbody tr th:only-of-type {\n",
       "        vertical-align: middle;\n",
       "    }\n",
       "\n",
       "    .dataframe tbody tr th {\n",
       "        vertical-align: top;\n",
       "    }\n",
       "\n",
       "    .dataframe thead th {\n",
       "        text-align: right;\n",
       "    }\n",
       "</style>\n",
       "<table border=\"1\" class=\"dataframe\">\n",
       "  <thead>\n",
       "    <tr style=\"text-align: right;\">\n",
       "      <th></th>\n",
       "      <th>Year</th>\n",
       "      <th>Brownlow_votes</th>\n",
       "      <th>Home_Away_Team</th>\n",
       "    </tr>\n",
       "  </thead>\n",
       "  <tbody>\n",
       "    <tr>\n",
       "      <th>0</th>\n",
       "      <td>2019</td>\n",
       "      <td>1</td>\n",
       "      <td>Home</td>\n",
       "    </tr>\n",
       "    <tr>\n",
       "      <th>1</th>\n",
       "      <td>2019</td>\n",
       "      <td>1</td>\n",
       "      <td>Home</td>\n",
       "    </tr>\n",
       "    <tr>\n",
       "      <th>2</th>\n",
       "      <td>2019</td>\n",
       "      <td>1</td>\n",
       "      <td>Away</td>\n",
       "    </tr>\n",
       "    <tr>\n",
       "      <th>3</th>\n",
       "      <td>2019</td>\n",
       "      <td>1</td>\n",
       "      <td>Away</td>\n",
       "    </tr>\n",
       "    <tr>\n",
       "      <th>4</th>\n",
       "      <td>2019</td>\n",
       "      <td>1</td>\n",
       "      <td>Home</td>\n",
       "    </tr>\n",
       "    <tr>\n",
       "      <th>...</th>\n",
       "      <td>...</td>\n",
       "      <td>...</td>\n",
       "      <td>...</td>\n",
       "    </tr>\n",
       "    <tr>\n",
       "      <th>589</th>\n",
       "      <td>2019</td>\n",
       "      <td>3</td>\n",
       "      <td>Away</td>\n",
       "    </tr>\n",
       "    <tr>\n",
       "      <th>590</th>\n",
       "      <td>2019</td>\n",
       "      <td>3</td>\n",
       "      <td>Away</td>\n",
       "    </tr>\n",
       "    <tr>\n",
       "      <th>591</th>\n",
       "      <td>2019</td>\n",
       "      <td>3</td>\n",
       "      <td>Home</td>\n",
       "    </tr>\n",
       "    <tr>\n",
       "      <th>592</th>\n",
       "      <td>2019</td>\n",
       "      <td>3</td>\n",
       "      <td>Away</td>\n",
       "    </tr>\n",
       "    <tr>\n",
       "      <th>593</th>\n",
       "      <td>2019</td>\n",
       "      <td>3</td>\n",
       "      <td>Home</td>\n",
       "    </tr>\n",
       "  </tbody>\n",
       "</table>\n",
       "<p>594 rows × 3 columns</p>\n",
       "</div>"
      ],
      "text/plain": [
       "     Year  Brownlow_votes Home_Away_Team\n",
       "0    2019               1           Home\n",
       "1    2019               1           Home\n",
       "2    2019               1           Away\n",
       "3    2019               1           Away\n",
       "4    2019               1           Home\n",
       "..    ...             ...            ...\n",
       "589  2019               3           Away\n",
       "590  2019               3           Away\n",
       "591  2019               3           Home\n",
       "592  2019               3           Away\n",
       "593  2019               3           Home\n",
       "\n",
       "[594 rows x 3 columns]"
      ]
     },
     "execution_count": 3,
     "metadata": {},
     "output_type": "execute_result"
    }
   ],
   "source": [
    "# File to Load\n",
    "brownlow2017_df = pd.read_csv(\"brownlow2017.csv\")\n",
    "brownlow2018_df = pd.read_csv(\"brownlow2018.csv\")\n",
    "brownlow2019_df = pd.read_csv(\"brownlow2019.csv\")\n",
    "brownlow2017_df\n",
    "brownlow2018_df\n",
    "brownlow2019_df\n"
   ]
  },
  {
   "cell_type": "markdown",
   "metadata": {},
   "source": [
    "### 2017 Plot of Home vs Away games of Brownlow votes\n"
   ]
  },
  {
   "cell_type": "code",
   "execution_count": 23,
   "metadata": {},
   "outputs": [
    {
     "data": {
      "image/png": "[encoded data removed]",
      "text/plain": [
       "<Figure size 432x288 with 1 Axes>"
      ]
     },
     "metadata": {
      "needs_background": "light"
     },
     "output_type": "display_data"
    }
   ],
   "source": [
    "#Group the votes according to home and away teams\n",
    "brownlow2017_homeawaygroup=brownlow2017_df.groupby(\"Home_Away_Team\")\n",
    "# Find out how many votes of each were handed out\n",
    "brownlow2017_votes= brownlow2017_homeawaygroup[\"Brownlow_votes\"].sum()\n",
    "# Chart our data, give it a title, and label the axes\n",
    "color=['Blue', 'Red']\n",
    "brownlow2017_chart = brownlow2017_votes.plot(kind=\"bar\", title=\"2017 Brownlow Votes\",color=['Blue', 'Red'])\n",
    "brownlow2017_chart.set_xlabel(\"Home Away\")\n",
    "brownlow2017_chart.set_ylabel(\"Number of votes\")\n",
    "\n",
    "ax = brownlow2017_chart\n",
    "\n",
    "for container in ax.containers:\n",
    "    ax.bar_label(container)\n",
    "\n",
    "plt.savefig(\"2017brownlow.jpg\")"
   ]
  },
  {
   "cell_type": "markdown",
   "metadata": {},
   "source": [
    "### 2018 Plot of Home vs Away games of Brownlow votes\n"
   ]
  },
  {
   "cell_type": "code",
   "execution_count": 5,
   "metadata": {},
   "outputs": [
    {
     "data": {
      "image/png": "[encoded data removed]",
      "text/plain": [
       "<Figure size 432x288 with 1 Axes>"
      ]
     },
     "metadata": {
      "needs_background": "light"
     },
     "output_type": "display_data"
    }
   ],
   "source": [
    "#Group the votes according to home and away teams\n",
    "brownlow2018_homeawaygroup=brownlow2018_df.groupby(\"Home_Away_Team\")\n",
    "# Find out how many votes of each were handed out\n",
    "brownlow2018_votes= brownlow2018_homeawaygroup[\"Brownlow_votes\"].sum()\n",
    "# Chart our data, give it a title, and label the axes\n",
    "color=['Blue', 'Red']\n",
    "brownlow2018_chart = brownlow2018_votes.plot(kind=\"bar\", title=\"2018 Brownlow Votes\",color=['Blue', 'Red'])\n",
    "brownlow2018_chart.set_xlabel(\"Home Away\")\n",
    "brownlow2018_chart.set_ylabel(\"Number of votes\")\n",
    "ax = brownlow2018_chart\n",
    "\n",
    "for container in ax.containers:\n",
    "    ax.bar_label(container)\n",
    "plt.savefig(\"2018brownlow.jpg\")"
   ]
  },
  {
   "cell_type": "markdown",
   "metadata": {},
   "source": [
    "### 2019 Plot of Home vs Away games of Brownlow votes\n"
   ]
  },
  {
   "cell_type": "code",
   "execution_count": 59,
   "metadata": {},
   "outputs": [
    {
     "data": {
      "text/plain": [
       "Home_Away_Team\n",
       "Away    554\n",
       "Home    634\n",
       "Name: Brownlow_votes, dtype: int64"
      ]
     },
     "execution_count": 59,
     "metadata": {},
     "output_type": "execute_result"
    },
    {
     "data": {
      "image/png": "[encoded data removed]",
      "text/plain": [
       "<Figure size 432x288 with 1 Axes>"
      ]
     },
     "metadata": {
      "needs_background": "light"
     },
     "output_type": "display_data"
    }
   ],
   "source": [
    "#Group the votes according to home and away teams\n",
    "brownlow2019_homeawaygroup=brownlow2019_df.groupby(\"Home_Away_Team\")\n",
    "# Find out how many votes of each were handed out\n",
    "brownlow2019_votes= brownlow2019_homeawaygroup[\"Brownlow_votes\"].sum()\n",
    "# Chart our data, give it a title, and label the axes\n",
    "color=['Blue', 'Red']\n",
    "brownlow2019_chart = brownlow2019_votes.plot(kind=\"bar\", title=\"2019 Brownlow Votes\",color=['Blue', 'Red'])\n",
    "brownlow2019_chart.set_xlabel(\"Home Away\")\n",
    "brownlow2019_chart.set_ylabel(\"Number of votes\")\n",
    "ax = brownlow2019_chart\n",
    "\n",
    "for container in ax.containers:\n",
    "    ax.bar_label(container)\n",
    "plt.savefig(\"2019brownlow.jpg\")\n",
    "brownlow2019_votes"
   ]
  },
  {
   "cell_type": "markdown",
   "metadata": {},
   "source": [
    "### Plot of 2017, 2018, 2019 combined Home vs Away games of Brownlow votes\n"
   ]
  },
  {
   "cell_type": "code",
   "execution_count": 27,
   "metadata": {},
   "outputs": [
    {
     "data": {
      "text/html": [
       "<div>\n",
       "<style scoped>\n",
       "    .dataframe tbody tr th:only-of-type {\n",
       "        vertical-align: middle;\n",
       "    }\n",
       "\n",
       "    .dataframe tbody tr th {\n",
       "        vertical-align: top;\n",
       "    }\n",
       "\n",
       "    .dataframe thead th {\n",
       "        text-align: right;\n",
       "    }\n",
       "</style>\n",
       "<table border=\"1\" class=\"dataframe\">\n",
       "  <thead>\n",
       "    <tr style=\"text-align: right;\">\n",
       "      <th></th>\n",
       "      <th>Home</th>\n",
       "      <th>Away</th>\n",
       "    </tr>\n",
       "  </thead>\n",
       "  <tbody>\n",
       "    <tr>\n",
       "      <th></th>\n",
       "      <td>1922</td>\n",
       "      <td>1642</td>\n",
       "    </tr>\n",
       "  </tbody>\n",
       "</table>\n",
       "</div>"
      ],
      "text/plain": [
       "  Home  Away\n",
       "  1922  1642"
      ]
     },
     "execution_count": 27,
     "metadata": {},
     "output_type": "execute_result"
    },
    {
     "data": {
      "image/png": "[encoded data removed]",
      "text/plain": [
       "<Figure size 432x288 with 1 Axes>"
      ]
     },
     "metadata": {
      "needs_background": "light"
     },
     "output_type": "display_data"
    }
   ],
   "source": [
    "df7=brownlow2017_df.groupby('Home_Away_Team')\n",
    "df7.head()\n",
    "sum2017_df=pd.DataFrame(df7[\"Brownlow_votes\"].sum())\n",
    "sum2017_df.head()\n",
    "sum2017_homevotes=sum2017_df.loc[\"Home\"].sum()\n",
    "sum2017_awayvotes=sum2017_df.loc[\"Away\"].sum()\n",
    "\n",
    "df8=brownlow2018_df.groupby('Home_Away_Team')\n",
    "df8.head()\n",
    "sum2018_df=pd.DataFrame(df8[\"Brownlow_votes\"].sum())\n",
    "sum2018_df.head()\n",
    "sum2018_homevotes=sum2018_df.loc[\"Home\"].sum()\n",
    "sum2018_awayvotes=sum2018_df.loc[\"Away\"].sum()\n",
    "sum2018_df.head()\n",
    "\n",
    "df9=brownlow2019_df.groupby('Home_Away_Team')\n",
    "df9.head()\n",
    "sum2019_df=pd.DataFrame(df9[\"Brownlow_votes\"].sum())\n",
    "sum2019_df.head()\n",
    "sum2019_homevotes=sum2019_df.loc[\"Home\"].sum()\n",
    "sum2019_awayvotes=sum2019_df.loc[\"Away\"].sum()\n",
    "\n",
    "\n",
    "homevotes=sum2017_homevotes+sum2018_homevotes+sum2019_homevotes\n",
    "awayvotes=sum2017_awayvotes+sum2018_awayvotes+sum2019_awayvotes\n",
    "\n",
    "brownlow2017_2019_votes=pd.DataFrame ({'Home':  [homevotes], 'Away':[awayvotes]},index={''})\n",
    "brownlow2017_2019_votes\n",
    "\n",
    "\n",
    "#Chart our data, give it a title, and label the axes\n",
    "color=['Red', 'Blue']\n",
    "brownlow2017_2019_chart = brownlow2017_2019_votes.plot(kind=\"bar\", title=\"2017-2019 Brownlow Votes\",color=color)\n",
    "brownlow2017_2019_chart.set_xlabel(\"Home Away\")\n",
    "brownlow2017_2019_chart.set_ylabel(\"Number of votes\")\n",
    "ax = brownlow2017_2019_chart\n",
    "\n",
    "for container in ax.containers:\n",
    "    ax.bar_label(container)\n",
    "\n",
    "plt.savefig(\"2017_2018_2019_brownlow.jpg\")\n",
    "brownlow2017_2019_votes\n"
   ]
  },
  {
   "cell_type": "markdown",
   "metadata": {},
   "source": [
    "### Looking across all thegraphs it looks like home team players get more votes than away team players.\n",
    "# This could be because teams play better in front of home crowds. See Analysis of home away win loss records in the next notebook"
   ]
  }
 ],
 "metadata": {
  "interpreter": {
   "hash": "3192211e2e67f6197ee666442a5b564ecf4d747c0783206661ae43294d5c0aaf"
  },
  "kernelspec": {
   "display_name": "pydev",
   "language": "python",
   "name": "python3"
  },
  "language_info": {
   "codemirror_mode": {
    "name": "ipython",
    "version": 3
   },
   "file_extension": ".py",
   "mimetype": "text/x-python",
   "name": "python",
   "nbconvert_exporter": "python",
   "pygments_lexer": "ipython3",
   "version": "3.9.7"
  },
  "latex_envs": {
   "LaTeX_envs_menu_present": true,
   "autoclose": false,
   "autocomplete": true,
   "bibliofile": "biblio.bib",
   "cite_by": "apalike",
   "current_citInitial": 1,
   "eqLabelWithNumbers": true,
   "eqNumInitial": 1,
   "hotkeys": {
    "equation": "Ctrl-E",
    "itemize": "Ctrl-I"
   },
   "labels_anchors": false,
   "latex_user_defs": false,
   "report_style_numbering": false,
   "user_envs_cfg": false
  }
 },
 "nbformat": 4,
 "nbformat_minor": 4
}
